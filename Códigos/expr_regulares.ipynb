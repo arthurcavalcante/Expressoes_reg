{
  "cells": [
    {
      "cell_type": "markdown",
      "metadata": {
        "colab_type": "text",
        "id": "view-in-github"
      },
      "source": [
        "<a href=\"https://colab.research.google.com/github/arthurcavalcante/Python-Test-Codes/blob/main/expr_regulares.ipynb\" target=\"_parent\"><img src=\"https://colab.research.google.com/assets/colab-badge.svg\" alt=\"Open In Colab\"/></a>"
      ]
    },
    {
      "cell_type": "code",
      "execution_count": null,
      "metadata": {
        "id": "2Sm2w1pE62EX"
      },
      "outputs": [],
      "source": [
        "import re\n"
      ]
    },
    {
      "cell_type": "code",
      "execution_count": 7,
      "metadata": {
        "colab": {
          "base_uri": "https://localhost:8080/"
        },
        "id": "H4NXxNaK7MJv",
        "outputId": "a101a16f-3265-4dbc-b6ac-e7a06aeb46ab"
      },
      "outputs": [
        {
          "name": "stdout",
          "output_type": "stream",
          "text": [
            "Formato de CPF válido\n"
          ]
        }
      ],
      "source": [
        "def verificar_cpf(cpf):\n",
        "    # Expressão regular para verificar o formato do CPF\n",
        "    padrao = r'^\\d{3}\\.\\d{3}\\.\\d{3}-\\d{2}$'\n",
        "    # Verifica se o CPF corresponde ao padrão\n",
        "    return re.match(padrao, cpf) is not None\n",
        "\n",
        "# Cpf de teste para a verificação da questão 1. inserir cpf para teste:\n",
        "cpf = \"123.456.789-09\"\n",
        "\n",
        "if verificar_cpf(cpf):\n",
        "    print(\"Formato de CPF válido\")\n",
        "else:\n",
        "    print(\"Formato de CPF inválido\")"
      ]
    },
    {
      "cell_type": "code",
      "execution_count": 9,
      "metadata": {
        "colab": {
          "base_uri": "https://localhost:8080/"
        },
        "id": "OZSgZR7Q_Lqz",
        "outputId": "e9261e2f-3993-4744-f339-8e30a11638c9"
      },
      "outputs": [
        {
          "name": "stdout",
          "output_type": "stream",
          "text": [
            "Letra não terminada em E!\n"
          ]
        }
      ],
      "source": [
        "def reconhecer_palavra_e(letra):\n",
        "    # Expressão regular para palavras terminadas em \"E\":\n",
        "    regex_2 = r\"\\b\\w*e\\b\"\n",
        "\n",
        "    if re.findall(regex_2, letra, re.IGNORECASE):\n",
        "        return True\n",
        "    else:\n",
        "        return False\n",
        "\n",
        "# Teste de letras terminadas em \"E\" da questão 2. inserir letra para teste:\n",
        "letra = \"XXXXXX\"\n",
        "\n",
        "if reconhecer_palavra_e(letra):\n",
        "    print(\"Palavra terminada em E!\")\n",
        "else:\n",
        "    print(\"Palavra não terminada em E!\")"
      ]
    },
    {
      "cell_type": "code",
      "execution_count": 14,
      "metadata": {
        "colab": {
          "base_uri": "https://localhost:8080/"
        },
        "id": "uraUK7Sqi3ZZ",
        "outputId": "c3934934-b3da-421d-c2d2-ae515b0d1d55"
      },
      "outputs": [
        {
          "name": "stdout",
          "output_type": "stream",
          "text": [
            "Palavra não começou com AL\n"
          ]
        }
      ],
      "source": [
        "def reconhecer_palavra_ar(letra_2):\n",
        "    # Expressão usada para identificar palavras que começam com \"AL\":\n",
        "    regex_3 = r\"\\bal\\w*\\b\"\n",
        "\n",
        "    if re.findall(regex_3, letra_2, re.IGNORECASE):\n",
        "        return True\n",
        "    else:\n",
        "        return False\n",
        "\n",
        "# Teste para letras que começam com \"AL\":\n",
        "letra_2 = \"XXXXXXX\"\n",
        "\n",
        "if reconhecer_palavra_ar(letra_2):\n",
        "    print(\"Palavra começou com AL\")\n",
        "else:\n",
        "    print(\"Palavra não começou com AL\")"
      ]
    },
    {
      "cell_type": "code",
      "execution_count": 16,
      "metadata": {
        "colab": {
          "base_uri": "https://localhost:8080/"
        },
        "id": "TyL2W94ll49b",
        "outputId": "f9b58e32-2c88-43fa-b671-547adc1d27ca"
      },
      "outputs": [
        {
          "name": "stdout",
          "output_type": "stream",
          "text": [
            "Parâmetros encontrados: ['param1, param2', 'a, b, c', '']\n"
          ]
        }
      ],
      "source": [
        "def encontrar_parametros(codigo):\n",
        "    # Expressão regular para encontrar tudo entre parênteses:\n",
        "    regex = r'\\((.*?)\\)'\n",
        "\n",
        "    parametros = re.findall(regex, codigo)\n",
        "\n",
        "    return parametros\n",
        "\n",
        "    # Exemplo de código de função em Python, mude se precisar:\n",
        "\n",
        "codigo_exemplo = \"\"\"\n",
        "def minha_funcao(param1, param2):\n",
        "    pass\n",
        "\n",
        "def outra_funcao(a, b, c):\n",
        "    return a + b + c\n",
        "\n",
        "def funcao_sem_parametros():\n",
        "    return None\n",
        "\"\"\"\n",
        "\n",
        "parametros_encontrados = encontrar_parametros(codigo_exemplo)\n",
        "\n",
        "# Faz uma print dos parâmetros encontrados na função:\n",
        "print(\"Parâmetros encontrados:\", parametros_encontrados)"
      ]
    },
    {
      "cell_type": "code",
      "execution_count": 22,
      "metadata": {
        "colab": {
          "base_uri": "https://localhost:8080/"
        },
        "id": "UEqbbkwzm6ki",
        "outputId": "82011649-13c0-40b1-9dfd-8f9254f1f32c"
      },
      "outputs": [
        {
          "name": "stdout",
          "output_type": "stream",
          "text": [
            "['a', 'b']\n"
          ]
        }
      ],
      "source": [
        "def encontrar_variaveis(codigo):\n",
        "\n",
        "    # Expressão regular para capturar nomes de variáveis na atribuição:\n",
        "    padrao = r'\\b([a-zA-Z_][a-zA-Z0-9_]*)\\s*='\n",
        "\n",
        "    variaveis = re.findall(padrao, codigo)\n",
        "    return variaveis\n",
        "\n",
        "# Para você mudar o código para testes:\n",
        "codigo = \"a = 1\\nb = 2\"\n",
        "\n",
        "variaveis = encontrar_variaveis(codigo)\n",
        "print(variaveis)\n",
        "\n",
        "# Saída esperada: ['a', 'b']"
      ]
    }
  ],
  "metadata": {
    "colab": {
      "authorship_tag": "ABX9TyM1/dmw25ZTtQO8G5ij6g+d",
      "include_colab_link": true,
      "provenance": []
    },
    "kernelspec": {
      "display_name": "Python 3",
      "name": "python3"
    },
    "language_info": {
      "name": "python"
    }
  },
  "nbformat": 4,
  "nbformat_minor": 0
}
